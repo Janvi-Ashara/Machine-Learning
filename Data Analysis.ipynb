{
 "cells": [
  {
   "cell_type": "code",
   "execution_count": 7,
   "id": "f5e211cf-0036-4aa5-9406-7e6d7f451ea5",
   "metadata": {},
   "outputs": [
    {
     "name": "stdout",
     "output_type": "stream",
     "text": [
      "Read the dataset \n",
      "         Country                  GDP  Literacy Rate  Life expectancy  Year\n",
      "0    Afghanistan     $19,101,353,833           0.097             64.5  2022\n",
      "1        Albania     $15,278,077,447           0.550             78.5  2022\n",
      "2        Algeria    $169,988,236,398           0.514             76.7  2022\n",
      "3        Andorra      $3,154,057,987             NaN              NaN  2022\n",
      "4         Angola     $94,635,415,870           0.093             60.8  2022\n",
      "..           ...                  ...            ...              ...   ...\n",
      "580    Venezuela      $1,185,728,677           0.026             72.8  2021\n",
      "581      Vietnam  $1,119,190,780,753           0.116             54.3  2021\n",
      "582        Yemen      $1,050,992,593           0.157             83.1  2021\n",
      "583       Zambia      $10,220,781,063          1.366             77.2  2021\n",
      "584     Zimbabwe  $1,394,116,310,769           1.046             81.0  2021\n",
      "\n",
      "[585 rows x 5 columns]\n"
     ]
    }
   ],
   "source": [
    "# Read the dataset and display the 10 records\n",
    "# Print all the column names\n",
    "# Print the size(rows, cols) of dataset\n",
    "# Check for the NULL values in dataset and if found replace the NULL values with the average values\n",
    "# Print the updated dataset\n",
    "# Display the top 10 countries having highest GDP year 2023\n",
    "# Display top 10 countries having highest Literacy rate year 2023\n",
    "# Plot the year wise literacy rate of each country\n",
    "# Plot the year wise GDP of each country\n",
    "# Plot the GDP and Literacy rate of the each country (Year : 2023)\n",
    "# Plot the GDP and Literacy rate of the each country (Year : 2022)\n",
    "# Plot the GDP and Literacy rate of the each country (Year : 2021)\n",
    "# Plot the Top 10 countries having highest Literacy Rate of year 2023\n",
    "\n",
    "import pandas as pd\n",
    "import xlrd\n",
    "print('Read the dataset ')\n",
    "df=pd.read_excel('world_literacy_data_2021_2023.xlsx')\n",
    "print(df)"
   ]
  },
  {
   "cell_type": "code",
   "execution_count": 8,
   "id": "00863a05-3ad1-49a2-ae6e-cd880ac41025",
   "metadata": {},
   "outputs": [
    {
     "name": "stdout",
     "output_type": "stream",
     "text": [
      "Read the dataset and display the 10 records\n",
      "-------------------------------------------\n",
      "               Country                  GDP  Literacy Rate  Life expectancy  \\\n",
      "0          Afghanistan     $19,101,353,833           0.097             64.5   \n",
      "1              Albania     $15,278,077,447           0.550             78.5   \n",
      "2              Algeria    $169,988,236,398           0.514             76.7   \n",
      "3              Andorra      $3,154,057,987             NaN              NaN   \n",
      "4               Angola     $94,635,415,870           0.093             60.8   \n",
      "5  Antigua and Barbuda      $1,727,759,259           0.248             76.9   \n",
      "6            Argentina    $449,663,446,954           0.900             76.5   \n",
      "7              Armenia     $13,672,802,158           0.546             74.9   \n",
      "8            Australia  $1,392,680,589,329           1.131             82.7   \n",
      "9              Austria    $446,314,739,528           0.851             81.6   \n",
      "\n",
      "   Year  \n",
      "0  2022  \n",
      "1  2022  \n",
      "2  2022  \n",
      "3  2022  \n",
      "4  2022  \n",
      "5  2022  \n",
      "6  2022  \n",
      "7  2022  \n",
      "8  2022  \n",
      "9  2022  \n"
     ]
    }
   ],
   "source": [
    "print('Read the dataset and display the 10 records')\n",
    "print('-------------------------------------------')\n",
    "print(df.head(10))"
   ]
  },
  {
   "cell_type": "code",
   "execution_count": 9,
   "id": "0c95f89d-9184-49ec-82a8-57ba0a184dfa",
   "metadata": {},
   "outputs": [
    {
     "name": "stdout",
     "output_type": "stream",
     "text": [
      "Print all the column names\n",
      "--------------------------\n"
     ]
    },
    {
     "data": {
      "text/plain": [
       "Index(['Country', 'GDP', 'Literacy Rate', 'Life expectancy', 'Year'], dtype='object')"
      ]
     },
     "execution_count": 9,
     "metadata": {},
     "output_type": "execute_result"
    }
   ],
   "source": [
    "print('Print all the column names')\n",
    "print('--------------------------')\n",
    "df.columns"
   ]
  },
  {
   "cell_type": "code",
   "execution_count": 10,
   "id": "7f194a78-f2e5-419c-9ed4-6a8a203e6f64",
   "metadata": {},
   "outputs": [
    {
     "name": "stdout",
     "output_type": "stream",
     "text": [
      "Print the size(rows, cols) of dataset\n",
      "--------------------------------------\n"
     ]
    },
    {
     "data": {
      "text/plain": [
       "2925"
      ]
     },
     "execution_count": 10,
     "metadata": {},
     "output_type": "execute_result"
    }
   ],
   "source": [
    "print('Print the size(rows, cols) of dataset')\n",
    "print('--------------------------------------')\n",
    "df.size"
   ]
  },
  {
   "cell_type": "code",
   "execution_count": 11,
   "id": "5bea9da7-af5b-4310-92b6-b3ebbdf6a2bd",
   "metadata": {},
   "outputs": [
    {
     "name": "stdout",
     "output_type": "stream",
     "text": [
      "Check for the NULL values in dataset and if found replace the NULL values with the average values\n",
      "-------------------------------------------------------------------------------------------------\n",
      "The Null values is : <bound method DataFrame.sum of      Country    GDP  Literacy Rate  Life expectancy   Year\n",
      "0      False  False          False            False  False\n",
      "1      False  False          False            False  False\n",
      "2      False  False          False            False  False\n",
      "3      False  False           True             True  False\n",
      "4      False  False          False            False  False\n",
      "..       ...    ...            ...              ...    ...\n",
      "580    False  False          False            False  False\n",
      "581    False  False          False            False  False\n",
      "582    False  False          False            False  False\n",
      "583    False  False          False            False  False\n",
      "584    False  False          False            False  False\n",
      "\n",
      "[585 rows x 5 columns]>\n"
     ]
    },
    {
     "data": {
      "text/plain": [
       "Country             0\n",
       "GDP                 4\n",
       "Literacy Rate      19\n",
       "Life expectancy    17\n",
       "Year                0\n",
       "dtype: int64"
      ]
     },
     "execution_count": 11,
     "metadata": {},
     "output_type": "execute_result"
    }
   ],
   "source": [
    "print('Check for the NULL values in dataset and if found replace the NULL values with the average values')\n",
    "print('-------------------------------------------------------------------------------------------------')\n",
    "null_counts=df.isnull().sum\n",
    "print('The Null values is :' ,null_counts)\n",
    "df.isnull().sum()"
   ]
  },
  {
   "cell_type": "code",
   "execution_count": 12,
   "id": "9a7e268e-8c2c-4fc8-a8b2-07f51625fb47",
   "metadata": {},
   "outputs": [
    {
     "name": "stdout",
     "output_type": "stream",
     "text": [
      "(585, 5)\n",
      "         Country                  GDP  Literacy Rate  Life expectancy  Year\n",
      "0    Afghanistan     $19,101,353,833           0.097             64.5  2022\n",
      "1        Albania     $15,278,077,447           0.550             78.5  2022\n",
      "2        Algeria    $169,988,236,398           0.514             76.7  2022\n",
      "3        Andorra      $3,154,057,987             NaN              NaN  2022\n",
      "4         Angola     $94,635,415,870           0.093             60.8  2022\n",
      "..           ...                  ...            ...              ...   ...\n",
      "580    Venezuela      $1,185,728,677           0.026             72.8  2021\n",
      "581      Vietnam  $1,119,190,780,753           0.116             54.3  2021\n",
      "582        Yemen      $1,050,992,593           0.157             83.1  2021\n",
      "583       Zambia      $10,220,781,063          1.366             77.2  2021\n",
      "584     Zimbabwe  $1,394,116,310,769           1.046             81.0  2021\n",
      "\n",
      "[585 rows x 5 columns]\n"
     ]
    }
   ],
   "source": [
    "print(df.shape)\n",
    "# print(df.ndim)\n",
    "print(df)"
   ]
  },
  {
   "cell_type": "code",
   "execution_count": 14,
   "id": "e09767c4-710e-4ad5-8ff1-28ecf1f0dd6c",
   "metadata": {},
   "outputs": [
    {
     "name": "stdout",
     "output_type": "stream",
     "text": [
      " Display the top 10 countries having highest GDP year 2023\n",
      "----------------------------------------------------------\n",
      "Country\n",
      "Afghanistan        $1,050,992,593 \n",
      "Albania        $1,119,190,780,753 \n",
      "Algeria            $1,185,728,677 \n",
      "Andorra            $1,228,170,370 \n",
      "Angola         $1,258,286,717,125 \n",
      "                      ...         \n",
      "Venezuela         $94,635,415,870 \n",
      "Vietnam                        NaN\n",
      "Yemen             $96,107,662,398 \n",
      "Zambia             $8,116,626,794 \n",
      "Zimbabwe          $95,503,088,538 \n",
      "Name: GDP, Length: 195, dtype: object\n"
     ]
    }
   ],
   "source": [
    "print(' Display the top 10 countries having highest GDP year 2023')\n",
    "print('----------------------------------------------------------')\n",
    "#Filtering\n",
    "gdp_2023 = df[df['Year'] == 2023]\n",
    "\n",
    "# gdp_2022_sorted = gdp_2022.sort_values(by='GDP', ascending=False)\n",
    "gdp_20221=gdp_2023.groupby('Country')['GDP'].max()\n",
    "print(gdp_20221)\n",
    "# top_10_gdp_countries = gdp_2022_sorted.head(10)\n",
    "# print(top_10_gdp_countries[['Country', 'GDP']])"
   ]
  }
 ],
 "metadata": {
  "kernelspec": {
   "display_name": "Python 3 (ipykernel)",
   "language": "python",
   "name": "python3"
  },
  "language_info": {
   "codemirror_mode": {
    "name": "ipython",
    "version": 3
   },
   "file_extension": ".py",
   "mimetype": "text/x-python",
   "name": "python",
   "nbconvert_exporter": "python",
   "pygments_lexer": "ipython3",
   "version": "3.10.12"
  }
 },
 "nbformat": 4,
 "nbformat_minor": 5
}

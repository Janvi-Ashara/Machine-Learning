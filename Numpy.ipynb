{
 "cells": [
  {
   "cell_type": "code",
   "execution_count": 6,
   "id": "f84955ff-97f0-45c0-82c0-37cb4b8a0c34",
   "metadata": {},
   "outputs": [
    {
     "data": {
      "text/plain": [
       "array([1, 2, 3])"
      ]
     },
     "execution_count": 6,
     "metadata": {},
     "output_type": "execute_result"
    }
   ],
   "source": [
    "import numpy as np\n",
    "a=np.array([1,2,3])\n",
    "a\n",
    "# print(type(a))"
   ]
  },
  {
   "cell_type": "markdown",
   "id": "e3f54f2a-6b08-4252-b4ef-83f988d7e114",
   "metadata": {},
   "source": [
    "### Fast or slow between list or array"
   ]
  },
  {
   "cell_type": "code",
   "execution_count": 8,
   "id": "f24f05c1-ff4a-48c6-88a4-a3b878a0c463",
   "metadata": {},
   "outputs": [
    {
     "name": "stdout",
     "output_type": "stream",
     "text": [
      "2.14 μs ± 22.4 ns per loop (mean ± std. dev. of 7 runs, 100,000 loops each)\n"
     ]
    }
   ],
   "source": [
    "%timeit [j**4 for j in range(1,9)]"
   ]
  },
  {
   "cell_type": "code",
   "execution_count": 10,
   "id": "aeb0ac8a-1a50-4c71-91eb-12b5845b9de5",
   "metadata": {},
   "outputs": [
    {
     "name": "stdout",
     "output_type": "stream",
     "text": [
      "1.88 μs ± 25.7 ns per loop (mean ± std. dev. of 7 runs, 100,000 loops each)\n"
     ]
    }
   ],
   "source": [
    "import numpy as py \n",
    "%timeit np.arange(1,9)**4\n",
    "# faster than list "
   ]
  },
  {
   "cell_type": "markdown",
   "id": "8b762950-e6f7-40e8-9a66-509824a81917",
   "metadata": {},
   "source": [
    "#### user Input in array"
   ]
  },
  {
   "cell_type": "code",
   "execution_count": 12,
   "id": "ce546cf9-9fb0-4cf4-af96-1809a0476455",
   "metadata": {},
   "outputs": [
    {
     "name": "stdin",
     "output_type": "stream",
     "text": [
      "enter the value 23\n",
      "enter the value 34\n",
      "enter the value 78\n",
      "enter the value 12\n"
     ]
    },
    {
     "name": "stdout",
     "output_type": "stream",
     "text": [
      "[23 34 78 12]\n"
     ]
    }
   ],
   "source": [
    "l=[]\n",
    "for i in range(1,5):\n",
    "    a=int(input(\"enter the value\"))\n",
    "    l.append(a)\n",
    "print(np.array(l))"
   ]
  },
  {
   "cell_type": "markdown",
   "id": "9535bc15-53e8-47a9-b907-73876639baf4",
   "metadata": {},
   "source": [
    "## 1 to multidimension array"
   ]
  },
  {
   "cell_type": "code",
   "execution_count": 18,
   "id": "c9a34d2f-3cc2-42b9-b47b-e18e24eea784",
   "metadata": {},
   "outputs": [
    {
     "name": "stdout",
     "output_type": "stream",
     "text": [
      "[[1 2 3 4]]\n",
      "2\n"
     ]
    }
   ],
   "source": [
    "# 1 dimension array\n",
    "n=[1,2,3,4]\n",
    "y=np.array([n])\n",
    "print(y)\n",
    "print(y.ndim)"
   ]
  },
  {
   "cell_type": "code",
   "execution_count": 24,
   "id": "ccfbadfc-13c2-4952-927c-60dc7293564c",
   "metadata": {},
   "outputs": [
    {
     "name": "stdout",
     "output_type": "stream",
     "text": [
      "[[1 2 3 4]\n",
      " [1 2 7 8]]\n",
      "2\n"
     ]
    }
   ],
   "source": [
    "# 2 dim array\n",
    "ar2 = np.array([[1,2,3,4],[1,2,7,8]])\n",
    "print(ar2)\n",
    "print(ar2.ndim)"
   ]
  },
  {
   "cell_type": "code",
   "execution_count": 23,
   "id": "90a2293b-df0e-478e-9aa0-c35e3cca74b1",
   "metadata": {},
   "outputs": [
    {
     "name": "stdout",
     "output_type": "stream",
     "text": [
      "[[[1 2 3 4]\n",
      "  [1 2 7 8]]]\n",
      "3\n"
     ]
    }
   ],
   "source": [
    "# 3 dim array\n",
    "ar2 = np.array([[[1,2,3,4],[1,2,7,8]]])\n",
    "print(ar2)\n",
    "print(ar2.ndim)"
   ]
  },
  {
   "cell_type": "code",
   "execution_count": 33,
   "id": "bf226366-d2f6-4a3e-80e6-234d93e0109c",
   "metadata": {},
   "outputs": [
    {
     "name": "stdout",
     "output_type": "stream",
     "text": [
      "[[[[[[[[[[1 3 4 5]]]]]]]]]]\n",
      "10\n"
     ]
    }
   ],
   "source": [
    "# multidimensin array\n",
    "import numpy as np\n",
    "arn= np.array([1,3,4,5],ndmin=10)\n",
    "print(arn)\n",
    "print(arn.ndim)"
   ]
  }
 ],
 "metadata": {
  "kernelspec": {
   "display_name": "Python 3 (ipykernel)",
   "language": "python",
   "name": "python3"
  },
  "language_info": {
   "codemirror_mode": {
    "name": "ipython",
    "version": 3
   },
   "file_extension": ".py",
   "mimetype": "text/x-python",
   "name": "python",
   "nbconvert_exporter": "python",
   "pygments_lexer": "ipython3",
   "version": "3.10.12"
  }
 },
 "nbformat": 4,
 "nbformat_minor": 5
}

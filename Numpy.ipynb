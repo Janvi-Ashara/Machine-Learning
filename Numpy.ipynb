{
 "cells": [
  {
   "cell_type": "code",
   "execution_count": 6,
   "id": "f84955ff-97f0-45c0-82c0-37cb4b8a0c34",
   "metadata": {},
   "outputs": [
    {
     "data": {
      "text/plain": [
       "array([1, 2, 3])"
      ]
     },
     "execution_count": 6,
     "metadata": {},
     "output_type": "execute_result"
    }
   ],
   "source": [
    "import numpy as np\n",
    "a=np.array([1,2,3])\n",
    "a\n",
    "# print(type(a))"
   ]
  },
  {
   "cell_type": "markdown",
   "id": "e3f54f2a-6b08-4252-b4ef-83f988d7e114",
   "metadata": {},
   "source": [
    "### Fast or slow between list or array"
   ]
  },
  {
   "cell_type": "code",
   "execution_count": null,
   "id": "f24f05c1-ff4a-48c6-88a4-a3b878a0c463",
   "metadata": {},
   "outputs": [],
   "source": [
    "%timeit[j**4 for j in ra"
   ]
  }
 ],
 "metadata": {
  "kernelspec": {
   "display_name": "Python 3 (ipykernel)",
   "language": "python",
   "name": "python3"
  },
  "language_info": {
   "codemirror_mode": {
    "name": "ipython",
    "version": 3
   },
   "file_extension": ".py",
   "mimetype": "text/x-python",
   "name": "python",
   "nbconvert_exporter": "python",
   "pygments_lexer": "ipython3",
   "version": "3.10.12"
  }
 },
 "nbformat": 4,
 "nbformat_minor": 5
}
